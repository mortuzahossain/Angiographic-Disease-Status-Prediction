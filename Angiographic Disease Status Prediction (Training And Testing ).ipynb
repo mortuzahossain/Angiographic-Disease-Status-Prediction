{
 "cells": [
  {
   "cell_type": "code",
   "execution_count": 2,
   "metadata": {},
   "outputs": [
    {
     "data": {
      "text/html": [
       "<div>\n",
       "<style scoped>\n",
       "    .dataframe tbody tr th:only-of-type {\n",
       "        vertical-align: middle;\n",
       "    }\n",
       "\n",
       "    .dataframe tbody tr th {\n",
       "        vertical-align: top;\n",
       "    }\n",
       "\n",
       "    .dataframe thead th {\n",
       "        text-align: right;\n",
       "    }\n",
       "</style>\n",
       "<table border=\"1\" class=\"dataframe\">\n",
       "  <thead>\n",
       "    <tr style=\"text-align: right;\">\n",
       "      <th></th>\n",
       "      <th>Age</th>\n",
       "      <th>Sex</th>\n",
       "      <th>CP</th>\n",
       "      <th>testbps</th>\n",
       "      <th>chol</th>\n",
       "      <th>fbs</th>\n",
       "      <th>restecg</th>\n",
       "      <th>thalach</th>\n",
       "      <th>exang</th>\n",
       "      <th>oldpeak</th>\n",
       "      <th>slop</th>\n",
       "      <th>ca</th>\n",
       "      <th>thal</th>\n",
       "      <th>result</th>\n",
       "    </tr>\n",
       "  </thead>\n",
       "  <tbody>\n",
       "    <tr>\n",
       "      <th>0</th>\n",
       "      <td>63</td>\n",
       "      <td>1</td>\n",
       "      <td>1</td>\n",
       "      <td>145</td>\n",
       "      <td>233</td>\n",
       "      <td>1</td>\n",
       "      <td>2</td>\n",
       "      <td>150</td>\n",
       "      <td>0.0</td>\n",
       "      <td>2.3</td>\n",
       "      <td>3</td>\n",
       "      <td>0.0</td>\n",
       "      <td>6.0</td>\n",
       "      <td>0</td>\n",
       "    </tr>\n",
       "    <tr>\n",
       "      <th>1</th>\n",
       "      <td>67</td>\n",
       "      <td>1</td>\n",
       "      <td>4</td>\n",
       "      <td>160</td>\n",
       "      <td>286</td>\n",
       "      <td>0</td>\n",
       "      <td>2</td>\n",
       "      <td>108</td>\n",
       "      <td>1.0</td>\n",
       "      <td>1.5</td>\n",
       "      <td>2</td>\n",
       "      <td>3.0</td>\n",
       "      <td>3.0</td>\n",
       "      <td>2</td>\n",
       "    </tr>\n",
       "    <tr>\n",
       "      <th>2</th>\n",
       "      <td>67</td>\n",
       "      <td>1</td>\n",
       "      <td>4</td>\n",
       "      <td>120</td>\n",
       "      <td>229</td>\n",
       "      <td>0</td>\n",
       "      <td>2</td>\n",
       "      <td>129</td>\n",
       "      <td>1.0</td>\n",
       "      <td>2.6</td>\n",
       "      <td>2</td>\n",
       "      <td>2.0</td>\n",
       "      <td>7.0</td>\n",
       "      <td>1</td>\n",
       "    </tr>\n",
       "    <tr>\n",
       "      <th>3</th>\n",
       "      <td>37</td>\n",
       "      <td>1</td>\n",
       "      <td>3</td>\n",
       "      <td>130</td>\n",
       "      <td>250</td>\n",
       "      <td>0</td>\n",
       "      <td>0</td>\n",
       "      <td>187</td>\n",
       "      <td>0.0</td>\n",
       "      <td>3.5</td>\n",
       "      <td>3</td>\n",
       "      <td>0.0</td>\n",
       "      <td>3.0</td>\n",
       "      <td>0</td>\n",
       "    </tr>\n",
       "    <tr>\n",
       "      <th>4</th>\n",
       "      <td>41</td>\n",
       "      <td>0</td>\n",
       "      <td>2</td>\n",
       "      <td>130</td>\n",
       "      <td>204</td>\n",
       "      <td>0</td>\n",
       "      <td>2</td>\n",
       "      <td>172</td>\n",
       "      <td>0.0</td>\n",
       "      <td>1.4</td>\n",
       "      <td>1</td>\n",
       "      <td>0.0</td>\n",
       "      <td>3.0</td>\n",
       "      <td>0</td>\n",
       "    </tr>\n",
       "  </tbody>\n",
       "</table>\n",
       "</div>"
      ],
      "text/plain": [
       "   Age  Sex  CP  testbps  chol  fbs  restecg  thalach  exang  oldpeak  slop  \\\n",
       "0   63    1   1      145   233    1        2      150    0.0      2.3     3   \n",
       "1   67    1   4      160   286    0        2      108    1.0      1.5     2   \n",
       "2   67    1   4      120   229    0        2      129    1.0      2.6     2   \n",
       "3   37    1   3      130   250    0        0      187    0.0      3.5     3   \n",
       "4   41    0   2      130   204    0        2      172    0.0      1.4     1   \n",
       "\n",
       "    ca  thal  result  \n",
       "0  0.0   6.0       0  \n",
       "1  3.0   3.0       2  \n",
       "2  2.0   7.0       1  \n",
       "3  0.0   3.0       0  \n",
       "4  0.0   3.0       0  "
      ]
     },
     "execution_count": 2,
     "metadata": {},
     "output_type": "execute_result"
    }
   ],
   "source": [
    "import os\n",
    "import pandas as pd\n",
    "\n",
    "# Read the hole dataset# Read  \n",
    "df = pd.read_csv('processed.cleveland .csv')\n",
    "df.head(5)"
   ]
  },
  {
   "cell_type": "code",
   "execution_count": 3,
   "metadata": {},
   "outputs": [],
   "source": [
    "df = df.dropna()\n",
    "y = df['result'].as_matrix()\n",
    "del df['result']\n",
    "X = df.as_matrix()\n",
    "\n",
    "# Split data for training(70%) and testing(30%)\n",
    "from sklearn.model_selection import train_test_split\n",
    "X_train , X_test , y_train , y_test = train_test_split(X,y,test_size = 0.1)"
   ]
  },
  {
   "cell_type": "markdown",
   "metadata": {},
   "source": [
    "# 1. KNeighborsClassifier"
   ]
  },
  {
   "cell_type": "code",
   "execution_count": 6,
   "metadata": {},
   "outputs": [
    {
     "data": {
      "text/plain": [
       "array([0, 0, 0, 0, 0, 0, 0, 0, 0, 0, 0, 4, 1, 0, 0, 1, 0, 0, 0, 0, 1, 0,\n",
       "       0, 0, 0, 0, 0, 0, 0, 1], dtype=int64)"
      ]
     },
     "execution_count": 6,
     "metadata": {},
     "output_type": "execute_result"
    }
   ],
   "source": [
    "knn.predict(X_test)"
   ]
  },
  {
   "cell_type": "code",
   "execution_count": 5,
   "metadata": {},
   "outputs": [
    {
     "name": "stdout",
     "output_type": "stream",
     "text": [
      "Accuracy of KNN Train : 0.612781954887\n",
      "Accuracy of KNN Test : 0.533333333333\n",
      "Train : 0.68045112782\n",
      "Test : 1.13333333333\n"
     ]
    },
    {
     "data": {
      "text/plain": [
       "['knn-cancer-prediction-model.pkl']"
      ]
     },
     "execution_count": 5,
     "metadata": {},
     "output_type": "execute_result"
    }
   ],
   "source": [
    "from sklearn.neighbors import KNeighborsClassifier\n",
    "from sklearn.metrics import mean_absolute_error\n",
    "from sklearn.externals import joblib\n",
    "# Creating Classifier\n",
    "knn = KNeighborsClassifier()\n",
    "# Train The Classifier\n",
    "knn.fit(X_train,y_train)\n",
    "# Test The Classifier\n",
    "print (\"Accuracy of KNN Train : {}\".format(knn.score(X_train,y_train)))\n",
    "print (\"Accuracy of KNN Test : {}\".format(knn.score(X_test,y_test)))\n",
    "# See The Mean Error\n",
    "mse = mean_absolute_error(y_train,knn.predict(X_train))\n",
    "print ('Train : {}'.format(mse))\n",
    "# For Testing data\n",
    "mse = mean_absolute_error(y_test,knn.predict(X_test))\n",
    "print ('Test : {}'.format(mse))\n",
    "\n",
    "# Saving The Generated Model\n",
    "joblib.dump(knn,'knn-cancer-prediction-model.pkl')"
   ]
  },
  {
   "cell_type": "markdown",
   "metadata": {},
   "source": [
    "# 2. GradientBoostingRegressor"
   ]
  },
  {
   "cell_type": "code",
   "execution_count": 6,
   "metadata": {},
   "outputs": [
    {
     "name": "stdout",
     "output_type": "stream",
     "text": [
      "Accuracy of GradientBoostingRegressor Train : 0.90041480103302\n",
      "Accuracy of GradientBoostingRegressor Test : 0.5239633759124439\n",
      "Train : 0.28824516353182283\n",
      "Test : 0.4882137146380286\n"
     ]
    }
   ],
   "source": [
    "from sklearn import ensemble\n",
    "# Creating Classifier\n",
    "model = ensemble.GradientBoostingRegressor()\n",
    "# Train The Classifier\n",
    "model.fit(X_train,y_train)\n",
    "\n",
    "# Save The Classifier\n",
    "joblib.dump(model,'GradientBoostingRegressor-cancer-prediction-model.pkl')\n",
    "\n",
    "# Test The Classifier\n",
    "print (\"Accuracy of GradientBoostingRegressor Train : {}\".format(model.score(X_train,y_train)))\n",
    "print (\"Accuracy of GradientBoostingRegressor Test : {}\".format(model.score(X_test,y_test)))\n",
    "mse = mean_absolute_error(y_train,model.predict(X_train))\n",
    "print ('Train : {}'.format(mse))\n",
    "# For Testing data\n",
    "mse = mean_absolute_error(y_test,model.predict(X_test))\n",
    "print ('Test : {}'.format(mse))"
   ]
  },
  {
   "cell_type": "markdown",
   "metadata": {},
   "source": [
    "# 3. RandomForestClassifier"
   ]
  },
  {
   "cell_type": "code",
   "execution_count": 10,
   "metadata": {},
   "outputs": [
    {
     "name": "stdout",
     "output_type": "stream",
     "text": [
      "Accuracy of RandomForestClassifier Train : 0.981203007519\n",
      "Accuracy of RandomForestClassifier Test : 0.533333333333\n",
      "Train : 0.0187969924812\n",
      "Test : 0.866666666667\n"
     ]
    }
   ],
   "source": [
    "from sklearn.ensemble import RandomForestClassifier\n",
    "clf = RandomForestClassifier()\n",
    "clf.fit(X_train,y_train)\n",
    "\n",
    "# Saving The Model\n",
    "joblib.dump(clf,'RandomForestClassifier-cancer-prediction-model.pkl')\n",
    "# Test The Classifier\n",
    "print (\"Accuracy of RandomForestClassifier Train : {}\".format(clf.score(X_train,y_train)))\n",
    "print (\"Accuracy of RandomForestClassifier Test : {}\".format(clf.score(X_test,y_test)))\n",
    "mse = mean_absolute_error(y_train,clf.predict(X_train))\n",
    "print ('Train : {}'.format(mse))\n",
    "# For Testing data\n",
    "mse = mean_absolute_error(y_test,clf.predict(X_test))\n",
    "print ('Test : {}'.format(mse))"
   ]
  },
  {
   "cell_type": "code",
   "execution_count": 7,
   "metadata": {},
   "outputs": [],
   "source": [
    "# Clange The Random Forrest Classifier to Get Better Result"
   ]
  },
  {
   "cell_type": "code",
   "execution_count": 50,
   "metadata": {},
   "outputs": [
    {
     "name": "stdout",
     "output_type": "stream",
     "text": [
      "Accuracy of RandomForestClassifier Train : 1.0\n",
      "Accuracy of RandomForestClassifier Test : 0.7\n"
     ]
    }
   ],
   "source": [
    "clf = RandomForestClassifier(\n",
    "    bootstrap=True, class_weight=None, criterion='gini',\n",
    "    max_depth=None, max_features='auto', max_leaf_nodes=None,\n",
    "    min_impurity_decrease=0.000000001, min_impurity_split=None,\n",
    "    min_samples_leaf=1, min_samples_split=2,\n",
    "    min_weight_fraction_leaf=0.001, n_estimators=100, n_jobs=1,\n",
    "    oob_score=False, random_state=None, verbose=0,\n",
    "    warm_start=False)\n",
    "clf.fit(X_train,y_train)\n",
    "print (\"Accuracy of RandomForestClassifier Train : {}\".format(clf.score(X_train,y_train)))\n",
    "print (\"Accuracy of RandomForestClassifier Test : {}\".format(clf.score(X_test,y_test)))"
   ]
  },
  {
   "cell_type": "code",
   "execution_count": 13,
   "metadata": {},
   "outputs": [
    {
     "name": "stdout",
     "output_type": "stream",
     "text": [
      "Accuracy of RandomForestClassifier Train : 1.0\n",
      "Accuracy of RandomForestClassifier Test : 0.666666666667\n"
     ]
    }
   ],
   "source": []
  }
 ],
 "metadata": {
  "kernelspec": {
   "display_name": "Python 2",
   "language": "python",
   "name": "python2"
  },
  "language_info": {
   "codemirror_mode": {
    "name": "ipython",
    "version": 2
   },
   "file_extension": ".py",
   "mimetype": "text/x-python",
   "name": "python",
   "nbconvert_exporter": "python",
   "pygments_lexer": "ipython2",
   "version": "2.7.14"
  }
 },
 "nbformat": 4,
 "nbformat_minor": 2
}
